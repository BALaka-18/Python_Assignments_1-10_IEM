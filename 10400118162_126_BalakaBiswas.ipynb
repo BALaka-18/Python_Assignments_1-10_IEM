{
  "nbformat": 4,
  "nbformat_minor": 0,
  "metadata": {
    "kernelspec": {
      "display_name": "Python 3",
      "language": "python",
      "name": "python3"
    },
    "language_info": {
      "codemirror_mode": {
        "name": "ipython",
        "version": 3
      },
      "file_extension": ".py",
      "mimetype": "text/x-python",
      "name": "python",
      "nbconvert_exporter": "python",
      "pygments_lexer": "ipython3",
      "version": "3.6.8"
    },
    "colab": {
      "name": "10400118162_126_BalakaBiswas.ipynb",
      "provenance": [],
      "collapsed_sections": [
        "nBhAME6YdwxT",
        "Ns_c09sgdwyr",
        "bvxLKGJHdwz-",
        "GUsUdeM-dw1A",
        "J22IFpKadw1l",
        "U7ToMg7Vdw4a",
        "PV6TOoXEdw5h",
        "1XRNMzCOdw6L"
      ],
      "include_colab_link": true
    }
  },
  "cells": [
    {
      "cell_type": "markdown",
      "metadata": {
        "id": "view-in-github",
        "colab_type": "text"
      },
      "source": [
        "<a href=\"https://colab.research.google.com/github/BALaka-18/Python_Assignments_1-10_IEM/blob/master/10400118162_126_BalakaBiswas.ipynb\" target=\"_parent\"><img src=\"https://colab.research.google.com/assets/colab-badge.svg\" alt=\"Open In Colab\"/></a>"
      ]
    },
    {
      "cell_type": "markdown",
      "metadata": {
        "id": "9TZ7_XGRdwwK",
        "colab_type": "text"
      },
      "source": [
        "# DAY 1\n"
      ]
    },
    {
      "cell_type": "markdown",
      "metadata": {
        "id": "w1F4HZA0dwwR",
        "colab_type": "text"
      },
      "source": [
        "PROGRAM 1:\n",
        "Write a Python program which accepts the user's first and last name and print them in reverse order with a space between them."
      ]
    },
    {
      "cell_type": "code",
      "metadata": {
        "id": "IOnZ-A2KdwwT",
        "colab_type": "code",
        "colab": {}
      },
      "source": [
        "a= input(\"Enter your first name:\")\n",
        "b=input(\"Enter your last name:\")\n",
        "print(b,'  ',a)\n"
      ],
      "execution_count": 0,
      "outputs": []
    },
    {
      "cell_type": "markdown",
      "metadata": {
        "id": "UExj2bOBdwwY",
        "colab_type": "text"
      },
      "source": [
        "PROGRAM 2:\n",
        "The program takes both the values from the user and swaps them without using temporary variable."
      ]
    },
    {
      "cell_type": "code",
      "metadata": {
        "id": "O-0Hb49Fdwwa",
        "colab_type": "code",
        "colab": {}
      },
      "source": [
        "a= input(\"Enter your first number:\")\n",
        "b=input(\"Enter your last number:\")\n",
        "print(\"a=\",b,'  ',\"b=\",a)"
      ],
      "execution_count": 0,
      "outputs": []
    },
    {
      "cell_type": "markdown",
      "metadata": {
        "id": "ZRl8BffWdwwg",
        "colab_type": "text"
      },
      "source": [
        "PROGRAM 3:\n",
        "Write a Python program to get the area and perimeter of a circle with radius 6.\n"
      ]
    },
    {
      "cell_type": "code",
      "metadata": {
        "id": "j2XE4Stodwwj",
        "colab_type": "code",
        "colab": {}
      },
      "source": [
        "r=6\n",
        "area= 3.14*r*r\n",
        "perimeter=2*3.14*r\n",
        "print(\"THE AREA IS : \",area)\n",
        "print(\"THE PERIMETER IS : \",perimeter)\n"
      ],
      "execution_count": 0,
      "outputs": []
    },
    {
      "cell_type": "markdown",
      "metadata": {
        "id": "mkhhSsKsdwws",
        "colab_type": "text"
      },
      "source": [
        "PROGRAM 4:\n",
        "Python Program to Read a Number n and Compute n+nn+nnn\n"
      ]
    },
    {
      "cell_type": "code",
      "metadata": {
        "id": "uxoUD20Rdwwu",
        "colab_type": "code",
        "colab": {}
      },
      "source": [
        "n=int(input(\"Enter a number: \"))\n",
        "a= n*n \n",
        "b=n*n*n \n",
        "product= n+a+b \n",
        "print(\"The answer is: \",product)\n"
      ],
      "execution_count": 0,
      "outputs": []
    },
    {
      "cell_type": "markdown",
      "metadata": {
        "id": "mQ7AZ-I4dww1",
        "colab_type": "text"
      },
      "source": [
        "PROGRAM 5 :\n",
        "Python Program to Compute Simple Interest Given all the Required Values\n"
      ]
    },
    {
      "cell_type": "code",
      "metadata": {
        "id": "oqFwSlw0dww4",
        "colab_type": "code",
        "colab": {}
      },
      "source": [
        "p=float(input(\"Enter the principle: \"))\n",
        "r=float(input(\"Enter the rate : \"))\n",
        "t=int(input(\"Enter the time: \"))\n",
        "si=(p*r*t)/100\n",
        "print(\"THE SIMPLE INTEREST IS: \",si)\n"
      ],
      "execution_count": 0,
      "outputs": []
    },
    {
      "cell_type": "markdown",
      "metadata": {
        "id": "A6XNKxKgdww-",
        "colab_type": "text"
      },
      "source": [
        "PROGRAM 6:\n",
        "Ask the user for a number. Depending on whether the number is even or odd, print out an appropriate message to the user.\n"
      ]
    },
    {
      "cell_type": "code",
      "metadata": {
        "id": "0a6ccMAPdwxC",
        "colab_type": "code",
        "colab": {}
      },
      "source": [
        "a=int(input(\"Enter a number: \"))\n",
        "if a%2==0:\n",
        "    print(\"The number is EVEN\")\n",
        "else:\n",
        "     print(\"The number is ODD\")\n"
      ],
      "execution_count": 0,
      "outputs": []
    },
    {
      "cell_type": "markdown",
      "metadata": {
        "id": "ibrSS8NHdwxI",
        "colab_type": "text"
      },
      "source": [
        "PROGRAM 7:\n",
        "Python Program to Take in the Marks of 5 Subjects and Display the Grade\n"
      ]
    },
    {
      "cell_type": "code",
      "metadata": {
        "id": "IbXJEcOcdwxK",
        "colab_type": "code",
        "colab": {}
      },
      "source": [
        " sub1=int(input(\"Enter marks of the first subject: \"))  \n",
        " sub2=int(input(\"Enter marks of the second subject: \"))  \n",
        " sub3=int(input(\"Enter marks of the third subject: \"))  \n",
        " sub4=int(input(\"Enter marks of the fourth subject: \"))  \n",
        " sub5=int(input(\"Enter marks of the fifth subject: \"))  \n",
        " avg=(sub1+sub2+sub3+sub4+sub4)/5  \n",
        " if(avg>=90):  \n",
        "    print(\"Grade: A\")  \n",
        " elif(avg>=80 and avg<90):  \n",
        "    print(\"Grade: B\") \n",
        "elif(avg>=70 and avg<80): \n",
        "    print(\"Grade: C\")  \n",
        " elif(avg>=60 and avg<70): \n",
        "    print(\"Grade: D\") \n",
        "else:  \n",
        "    print(\"Grade: F\")\n"
      ],
      "execution_count": 0,
      "outputs": []
    },
    {
      "cell_type": "markdown",
      "metadata": {
        "id": "nBhAME6YdwxT",
        "colab_type": "text"
      },
      "source": [
        "# DAY 2\n",
        "\n",
        "\n"
      ]
    },
    {
      "cell_type": "markdown",
      "metadata": {
        "id": "mPZmDy2kdwxU",
        "colab_type": "text"
      },
      "source": [
        "PROGRAM 1:\n",
        "Python program to reverse a given number.\n"
      ]
    },
    {
      "cell_type": "code",
      "metadata": {
        "id": "A4c7VCh9dwxV",
        "colab_type": "code",
        "colab": {}
      },
      "source": [
        "a=int(input(\"Enter a number: \"))\n",
        "rev=0\n",
        "while a>0:\n",
        "\trem=a%10\n",
        "\trev=(rev*10)+rem\n",
        "\ta=a//10\n",
        "print(rev)\n"
      ],
      "execution_count": 0,
      "outputs": []
    },
    {
      "cell_type": "markdown",
      "metadata": {
        "id": "QdgEOxD2dwxf",
        "colab_type": "text"
      },
      "source": [
        "**PROGRAM 2:**\n",
        "\n",
        "Python program to print all numbers in a range divisible by a given number."
      ]
    },
    {
      "cell_type": "code",
      "metadata": {
        "id": "rNcxsgV0dwxg",
        "colab_type": "code",
        "colab": {}
      },
      "source": [
        "n=int(input(\"Enter 3 numbers\"))\n",
        "for i in range(0,20):\n",
        "\tif i%n==0:\n",
        "\t\tprint(i)\n"
      ],
      "execution_count": 0,
      "outputs": []
    },
    {
      "cell_type": "markdown",
      "metadata": {
        "id": "K21Wu7_Gdwxl",
        "colab_type": "text"
      },
      "source": [
        "**PROGRAM 3:\n",
        "Python program to print a table of a given number.**"
      ]
    },
    {
      "cell_type": "code",
      "metadata": {
        "id": "eqY_vDWOdwxn",
        "colab_type": "code",
        "colab": {}
      },
      "source": [
        "n=int(input(\"Enter a number\"))\n",
        "print(\"Table of %d is\",n)\n",
        "for i in range(0,11):\n",
        "\ti=i+1\n",
        "\tprint(i*n)\n"
      ],
      "execution_count": 0,
      "outputs": []
    },
    {
      "cell_type": "markdown",
      "metadata": {
        "id": "I91crEV6dwxs",
        "colab_type": "text"
      },
      "source": [
        "**PROGRAM 4:\n",
        "Python program to check if a number is a perfect number.\n",
        "**"
      ]
    },
    {
      "cell_type": "code",
      "metadata": {
        "id": "2HrULg-Cdwxu",
        "colab_type": "code",
        "colab": {}
      },
      "source": [
        "a=int(input(\"Enter a number\"))\n",
        "sum=0\n",
        "for i in range(1,a):\n",
        "\tif(a%i==0):\n",
        "\t\tsum=sum+i\n",
        "if(sum==a):\n",
        "\tprint(\"It is a perfect number\")\n",
        "else:\n",
        "\tprint(\"It is not a perfect number\")\n"
      ],
      "execution_count": 0,
      "outputs": []
    },
    {
      "cell_type": "markdown",
      "metadata": {
        "id": "CO5-EcXUdwxz",
        "colab_type": "text"
      },
      "source": [
        "**PROGRAM 5:\n",
        "Write a Python program to count the number of characters (character frequency) in a string.\n",
        "**"
      ]
    },
    {
      "cell_type": "code",
      "metadata": {
        "id": "y4l5itNXdwx1",
        "colab_type": "code",
        "colab": {}
      },
      "source": [
        "n=str(input(\"Enter a string:\"))\n",
        "characters=0\n",
        "for i in range(len(n)):\n",
        "    characters=characters+1\n",
        "print(characters)\n"
      ],
      "execution_count": 0,
      "outputs": []
    },
    {
      "cell_type": "markdown",
      "metadata": {
        "id": "ebl1iKpcdwx6",
        "colab_type": "text"
      },
      "source": [
        "**PROGRAM 6:\n",
        "Write a Python program to get a string made of the first 2 and the last 2 chars from a given a string. If the string length is less than 2, return instead of the empty string.\n",
        "**"
      ]
    },
    {
      "cell_type": "code",
      "metadata": {
        "id": "bo6IRRQJdwx8",
        "colab_type": "code",
        "colab": {}
      },
      "source": [
        "str=input(\"Enter string:\")\n",
        "count=0\n",
        "for i in str:\n",
        "    count=count+1\n",
        "new=str[0:2]+str[count-2:count]\n",
        "print(\"Newly formed string is:\")\n",
        "print(new)\n"
      ],
      "execution_count": 0,
      "outputs": []
    },
    {
      "cell_type": "markdown",
      "metadata": {
        "id": "9jNw83_cdwyF",
        "colab_type": "text"
      },
      "source": [
        "**PROGRAM 7:\n",
        "Write a Python program where a number given, find sum of digits.\n",
        "**"
      ]
    },
    {
      "cell_type": "code",
      "metadata": {
        "id": "xOElBSRtdwyG",
        "colab_type": "code",
        "colab": {}
      },
      "source": [
        "n=int(input(\"Enter an integer:\"))\n",
        "sum=0\n",
        "while n>0:\n",
        "    rem=n%10\n",
        "    sum=sum + rem\n",
        "    n=n//10\n",
        "print(\"Sum of digits is\")\n",
        "print(sum)\n"
      ],
      "execution_count": 0,
      "outputs": []
    },
    {
      "cell_type": "markdown",
      "metadata": {
        "id": "sNJpYSzOdwyM",
        "colab_type": "text"
      },
      "source": [
        "**PROGRAM 8:\n",
        "Write a Python program where a number given, find the largest digit from that number.\n",
        "**"
      ]
    },
    {
      "cell_type": "code",
      "metadata": {
        "id": "HPy0-9rMdwyO",
        "colab_type": "code",
        "colab": {}
      },
      "source": [
        "n=int(input(\"Enter an integer:\"))\n",
        "l=0\n",
        "while n>0:\n",
        "    r=n%10\n",
        "    if l<r:\n",
        "        l=r\n",
        "    n=int(n/10)\n",
        "print(\"Largest digit is:\",l)\n"
      ],
      "execution_count": 0,
      "outputs": []
    },
    {
      "cell_type": "markdown",
      "metadata": {
        "id": "Z08f-ZEzdwyX",
        "colab_type": "text"
      },
      "source": [
        "**PROGRAM 9:\n",
        "Write an integer, n, perform the following conditional actions:\n",
        "\tIf n is odd, print weird \n",
        "\tIf n is even and in the inclusive range of 2 to 5, print not weird\n",
        "\tIf n is even and in the inclusive range of 6 to 20, print weird\n",
        "\tIf n is even and greater than 20,print not weird.\n",
        "**"
      ]
    },
    {
      "cell_type": "code",
      "metadata": {
        "id": "i9Y8XfaodwyZ",
        "colab_type": "code",
        "colab": {}
      },
      "source": [
        "n=int(input(\"Enter an integer:\"))\n",
        "if n%2==1:\n",
        "    print(\"Weird\")\n",
        "elif n%2==0:\n",
        "    for i in range(2,5):\n",
        "        print(\"Not Weird\")\n",
        "elif n%2==0:\n",
        "    for i in range(6,20):\n",
        "        print(\"Weird\")\n",
        "else:\n",
        "        print(\"Not Weird\")\n"
      ],
      "execution_count": 0,
      "outputs": []
    },
    {
      "cell_type": "markdown",
      "metadata": {
        "id": "Ns_c09sgdwyr",
        "colab_type": "text"
      },
      "source": [
        "# DAY 3\n",
        "\n"
      ]
    },
    {
      "cell_type": "markdown",
      "metadata": {
        "id": "9jdgQSRIdwyv",
        "colab_type": "text"
      },
      "source": [
        "**Problem 1:\n",
        "The program takes the elements of the list one by one and displays the average of the elements of the list.\n",
        "**"
      ]
    },
    {
      "cell_type": "code",
      "metadata": {
        "id": "FdsnSTr1dwyy",
        "colab_type": "code",
        "colab": {}
      },
      "source": [
        "a = int(input(\"Enter the number of elements to be inserted : \"))\t\t#Size of list\n",
        "n = []\t\t\t\t\t\t\t\t\t#Initializing list\n",
        "for i in range(0,a):\n",
        "    elem = int(input(\"Enter element : \"))\t\t\t\t\t#Elements of list\n",
        "    n.append(elem)\t\t\t\t\t\t#Appending each element to the list\n",
        "avg = sum(n)/a\t\t\t\t\t\t\t\t#Calculating average\n",
        "print(\"The average of the elements : \", avg)\n"
      ],
      "execution_count": 0,
      "outputs": []
    },
    {
      "cell_type": "markdown",
      "metadata": {
        "id": "rd2FlQdudwy3",
        "colab_type": "text"
      },
      "source": [
        "**Problem 2:\n",
        "Python Program to Find the Largest Number in a List.\n",
        "**"
      ]
    },
    {
      "cell_type": "code",
      "metadata": {
        "id": "jgdCtgpBdwy4",
        "colab_type": "code",
        "colab": {}
      },
      "source": [
        "n = int(input(\"Enter the number of elements to be inserted : \"))\t\t#Size of list\n",
        "a = []\t\t\t\t\t\t\t\t\t#Initializing list\n",
        "for i in range(0,n):\n",
        "    elem = int(input(\"Enter element : \"))\t\t\t\t\t#Elements of list\n",
        "    a.append(elem)\t\t\t\t\t\t#Appending each element to the list\n",
        "    a.sort()\t\t\t\t\t\t\t#Sorting the list in ascending order\t\n",
        "print(\"Largest number : \", a[n-1])\t\t\t\t\t#Print the largest element\n"
      ],
      "execution_count": 0,
      "outputs": []
    },
    {
      "cell_type": "markdown",
      "metadata": {
        "id": "OpPpJVIXdwy7",
        "colab_type": "text"
      },
      "source": [
        "**Problem 3:\n",
        "Python Program to Find the Second Largest Number in a List\n",
        "**"
      ]
    },
    {
      "cell_type": "code",
      "metadata": {
        "id": "ws4MU6iNdwy_",
        "colab_type": "code",
        "colab": {}
      },
      "source": [
        "n = int(input(\"Enter the number of elements to be inserted : \"))\t\t#Size of list\n",
        "a = []\t\t\t\t\t\t\t\t\t#Initializing list\n",
        "for i in range(0,n):\n",
        "    elem = int(input(\"Enter element : \"))\t\t\t\t\t#Elements of list\n",
        "    a.append(elem)\t\t\t\t\t\t#Appending each element to the list\n",
        "    a.sort()\t\t\t\t\t\t\t#Sorting the list in ascending order\t\n",
        "print(\"Second largest number : \", a[n-1])\t\t\t\t#Print the second largest element\n"
      ],
      "execution_count": 0,
      "outputs": []
    },
    {
      "cell_type": "markdown",
      "metadata": {
        "id": "irCEfxPldwzF",
        "colab_type": "text"
      },
      "source": [
        "**Problem 4:\n",
        "Python Program to Merge Two Lists and Sort it\n",
        "**"
      ]
    },
    {
      "cell_type": "code",
      "metadata": {
        "id": "O_l6t91QdwzI",
        "colab_type": "code",
        "colab": {}
      },
      "source": [
        "m = int(input(\"Enter the number of elements to be inserted in first list: \"))\t#Size of 1st list\n",
        "a = []\t\t\t\t\t\t\t\t\t\t#Initializing 1st list\n",
        "n = int(input(\"Enter the number of elements to be inserted in second list: \"))\t#Size of 2nd list\n",
        "b = []\t\t\t\t\t\t\t\t\t\t#Initializing 2nd list\n",
        "print()\n",
        "for i in range(0,m):\n",
        "    elem = int(input(\"Enter element of first list : \"))\t\t\t\t#Reading elements\n",
        "    a.append(elem)\t\t\t\t\t\t#Appending the elements to 1st list\n",
        "print()    \n",
        "for i in range(0,n):\n",
        "    el = int(input(\"Enter element of second list : \"))\n",
        "    a.append(el)\t\t\t\t\t\t\t#Appending elements to the 2nd list\n",
        "print()\n",
        "a.extend(b)\t\t\t\t\t#Merging the two lists and storing them in the 1st list\n",
        "print(\"Merged list : \", a)\t\t\t\t\t\t\t#Print merged list \n",
        "\n",
        "a.sort()\t\t\t\t\t\t\t\t\t#Sorting the merged list\n",
        "print()\n",
        "print(\"Merged and sorted list : \", a)\t\t\t\t#Print the merged and sorted list\n"
      ],
      "execution_count": 0,
      "outputs": []
    },
    {
      "cell_type": "markdown",
      "metadata": {
        "id": "GAeuKC8fdwzT",
        "colab_type": "text"
      },
      "source": [
        "**Problem 5:\n",
        "Python Program to Replace all Occurrences of ‘a’ with $ in a String\n",
        "**"
      ]
    },
    {
      "cell_type": "code",
      "metadata": {
        "id": "VoEyKy41dwzV",
        "colab_type": "code",
        "colab": {}
      },
      "source": [
        "string = str(input(\"Enter string: \"))\n",
        "string = string.replace('a','$')\n",
        "string = string.replace('A','$')\n",
        "print()\n",
        "print(\"Modified string : \", string)\n"
      ],
      "execution_count": 0,
      "outputs": []
    },
    {
      "cell_type": "markdown",
      "metadata": {
        "id": "MWoFPwnVdwza",
        "colab_type": "text"
      },
      "source": [
        "**Problem 6:\n",
        "Python Program to Detect if Two Strings are Anagrams\n",
        "**"
      ]
    },
    {
      "cell_type": "code",
      "metadata": {
        "id": "TSNfW8undwzb",
        "colab_type": "code",
        "colab": {}
      },
      "source": [
        "string1 = input(\"Enter string 1: \")\t\t\t\t#Read string 1\n",
        "string2 = input(\"Enter string 2: \")\t\t\t\t#Read string 2\n",
        "if sorted(string1) == sorted(string2):\t#Store the characters in a list and sort them. Then compare\n",
        "    print(\"Anagrams.\")\t\t\t\t\t\t#Print Anagram condition if equal\n",
        "else:\n",
        "    print(\"Not Anagrams.\")\t\t\t\t\t#Print Not Anagram if not equal\n"
      ],
      "execution_count": 0,
      "outputs": []
    },
    {
      "cell_type": "markdown",
      "metadata": {
        "id": "0Pkvr3Mddwzf",
        "colab_type": "text"
      },
      "source": [
        "**Problem 7:\n",
        "Write a program which will find all such numbers which are divisible by 7 but are not a multiple of 5, between 2000 and 3200 (both included). The numbers obtained should be printed in a comma-separated sequence on a single line.\n",
        "**"
      ]
    },
    {
      "cell_type": "code",
      "metadata": {
        "id": "zCbXmA6pdwzh",
        "colab_type": "code",
        "colab": {}
      },
      "source": [
        "a = []\t\t\t\t\t\t\t\t\t\t#Initializing a list\n",
        "print(\"The range is : 2000 to 3200\")\n",
        "print()\n",
        "for i in range(2000, 3201):\t\t\t\t\t\t\t#Specify range\n",
        "    if i%7 == 0 and i%5 != 0:\t\t\t\t\t\t\t#Specify condition\n",
        "        a.append(i)\t\t\t\t\t\t\t#Append to list if condition is true\n",
        "    else:\n",
        "        continue\t\t\t\t\t\t\t\t#Else, continue back to loop\n",
        "print(\"The numbers according to the constraints placed are : \")\n",
        "print(a)\t\t\t\t\t\t\t\t\t#Print the list\n"
      ],
      "execution_count": 0,
      "outputs": []
    },
    {
      "cell_type": "markdown",
      "metadata": {
        "id": "LqBKgr_Jdwzp",
        "colab_type": "text"
      },
      "source": [
        "**Problem 8:\n",
        "Write a program which can compute the factorial of a given number. The results should be printed in a comma-separated sequence on a single line. Suppose the following input is supplied to the program: 8 Then, the output should be: 40320\n",
        "**"
      ]
    },
    {
      "cell_type": "code",
      "metadata": {
        "id": "szvdUO9Fdwzr",
        "colab_type": "code",
        "colab": {}
      },
      "source": [
        "def fact(n):\t\t\t#Defining a recursive function to calculate factorial of  a number\n",
        "    if n == 0:\t\t\t\t\t\t\t#Stopping condition\n",
        "        return 1;\n",
        "    else:\n",
        "        return n*fact(n-1)\t\t\t\t\t\t#Recursion statement\n",
        "\n",
        "num = int(input(\"Enter number whose factorial is to be calculated : \"))\t\t#Read the number\n",
        "print()\n",
        "print(\"Factorial : \", fact(num))\t\t\t\t\t\t\t#Print the result\n"
      ],
      "execution_count": 0,
      "outputs": []
    },
    {
      "cell_type": "markdown",
      "metadata": {
        "id": "_b3mFUMrdwzw",
        "colab_type": "text"
      },
      "source": [
        "**Problem 9:\n",
        "Write a Python program to check a list is empty or not\n",
        "**"
      ]
    },
    {
      "cell_type": "code",
      "metadata": {
        "id": "okpc83C_dwzx",
        "colab_type": "code",
        "colab": {}
      },
      "source": [
        "def Check(lst): \n",
        "    if len(lst) == 0: \n",
        "        return 0\n",
        "    else: \n",
        "        return 1\n",
        "lst_check = [] \n",
        "print(lst_check)\n",
        "if Check(lst_check): \n",
        "    print (\"Not empty\") \n",
        "else: \n",
        "    print(\"Empty List\")\n"
      ],
      "execution_count": 0,
      "outputs": []
    },
    {
      "cell_type": "markdown",
      "metadata": {
        "id": "hxYKFI70dwz3",
        "colab_type": "text"
      },
      "source": [
        "**Problem 10:\n",
        "You are given an array of 0s and 1s in random order. Segregate 0s on left side and 1s on right side of the array.\n",
        "**"
      ]
    },
    {
      "cell_type": "code",
      "metadata": {
        "id": "xXzZElmIdwz4",
        "colab_type": "code",
        "colab": {}
      },
      "source": [
        "lst = [0, 1, 0, 1, 0, 0, 1, 1, 1, 0] \t\t\t\t\t#Pre-defined list\n",
        "print(\"Original list : \", lst)\t\t\t\t\t#Print original\n",
        "lt = sorted(lst)\t\t\t\t\t\t\t#Sort list (as 0 < 1)\n",
        "print(\"Segregated list : \", lt)\t\t\t\t\t#Print new list\n"
      ],
      "execution_count": 0,
      "outputs": []
    },
    {
      "cell_type": "markdown",
      "metadata": {
        "id": "bvxLKGJHdwz-",
        "colab_type": "text"
      },
      "source": [
        "\n",
        "\n",
        "# DAY 4\n",
        "\n",
        "\n"
      ]
    },
    {
      "cell_type": "markdown",
      "metadata": {
        "id": "kmujGDM3dw0A",
        "colab_type": "text"
      },
      "source": [
        "**Problem1:\n",
        "Write a program that accepts a comma separated sequence of words as input and prints the words in a comma-separated sequence after sorting them alphabetically.\n",
        "Sample data: without,hello,bag,world\n",
        "Expected output: bag,hello,without,world\n",
        "**"
      ]
    },
    {
      "cell_type": "code",
      "metadata": {
        "id": "2nZqhe3Pdw0C",
        "colab_type": "code",
        "colab": {}
      },
      "source": [
        "Words=input (\"Data : \").split(\",\");\n",
        "Words.sort()\n",
        "print(\"Output : \",end=\"\")\n",
        "for index,word in enumerate(Words):\n",
        "\tif index==len(Words)-1:\n",
        "\t\t x=\"\\n\"\n",
        "\telse :\n",
        "\t\tx=\",\"\n",
        "\tprint(word,end=x)\n"
      ],
      "execution_count": 0,
      "outputs": []
    },
    {
      "cell_type": "markdown",
      "metadata": {
        "id": "0PcOGfacdw0J",
        "colab_type": "text"
      },
      "source": [
        "**Problem2:\n",
        "Write a Python program to remove an empty tuple(s) from a list of tuples.\n",
        "Sample data: [(), (), ('',), ('a', 'b'), ('a', 'b', 'c'), ('d')]\n",
        "Expected output: [('',), ('a', 'b'), ('a', 'b', 'c'), 'd']\n",
        "**"
      ]
    },
    {
      "cell_type": "code",
      "metadata": {
        "id": "Ufq57m9Fdw0K",
        "colab_type": "code",
        "colab": {}
      },
      "source": [
        "inp=[(),(),(\"\",),(\"a\",\"b\"),(\"a\",\"b\",\"c\"),(\"d\")]\n",
        "l=len(inp)\n",
        "i=0\n",
        "while i<l:\n",
        "\tif inp[i]==():\n",
        "\t\tinp.remove(())\n",
        "\t\tl-=1\n",
        "\telif len(inp[i])==1:\n",
        "\t\tinp[i]=inp[i]\n",
        "\t\ti+=1\n",
        "\telse:\n",
        "\t\ti+=1\n",
        "\n",
        "print(inp)\n"
      ],
      "execution_count": 0,
      "outputs": []
    },
    {
      "cell_type": "markdown",
      "metadata": {
        "id": "jpUW9DSOdw0P",
        "colab_type": "text"
      },
      "source": [
        "**Problem3:\n",
        "Write a Python program to sort a tuple by its float element.\n",
        "Sample data: [('item1', '12.20'), ('item2', '15.10'), ('item3', '24.5')]\n",
        "Expected Output: [('item3', '24.5'), ('item2', '15.10'), ('item1', '12.20')]\n",
        "**"
      ]
    },
    {
      "cell_type": "code",
      "metadata": {
        "id": "Ie4bHBFQdw0Q",
        "colab_type": "code",
        "colab": {}
      },
      "source": [
        "import operator\n",
        "\n",
        "inp=[(\"Item1\",12.20),(\"Item2\",15.10),(\"Item3\",24.5)]\n",
        "\n",
        "inp.sort(key=operator.itemgetter(1))\n",
        "print(inp[::-1])\n"
      ],
      "execution_count": 0,
      "outputs": []
    },
    {
      "cell_type": "markdown",
      "metadata": {
        "id": "8P3c3qSCdw0W",
        "colab_type": "text"
      },
      "source": [
        "**Problem4:\n",
        "Write a Python program to reverse a tuple.\n",
        "**"
      ]
    },
    {
      "cell_type": "code",
      "metadata": {
        "id": "zIjtFUY4dw0X",
        "colab_type": "code",
        "colab": {}
      },
      "source": [
        "inp=(1,2,3,4,9,5,6)\n",
        "\n",
        "inp=inp[::-1]\n",
        "print(inp)\n"
      ],
      "execution_count": 0,
      "outputs": []
    },
    {
      "cell_type": "markdown",
      "metadata": {
        "id": "76ZDdidodw0b",
        "colab_type": "text"
      },
      "source": [
        "**Problem5:\n",
        "Write a Python program to count occurrences of an element in a Tuple\n",
        "**"
      ]
    },
    {
      "cell_type": "code",
      "metadata": {
        "id": "6IpzE4eJdw0d",
        "colab_type": "code",
        "colab": {}
      },
      "source": [
        "\n",
        "a=(1,2,5,1,9,6,4,7,5,6,2,3,9,5,4,1,2,0)\n",
        "print(a)\n",
        "freq={}\n",
        "for i in a:\n",
        "\tif i in freq:\n",
        "\t\tfreq[i]+=1\n",
        "\telse:\n",
        "\t\tfreq[i]=1\n",
        "\n",
        "\n",
        "for i in freq:\n",
        "\tprint(i,\"appears\",freq[i])\n"
      ],
      "execution_count": 0,
      "outputs": []
    },
    {
      "cell_type": "markdown",
      "metadata": {
        "id": "L4ywNhBedw0i",
        "colab_type": "text"
      },
      "source": [
        "**Problem6:\n",
        "With a given integral number n, write a program to generate a dictionary that contains (i, i*i) such that is an integral number between 1 and n (both included). and then the program should print the dictionary. Suppose the following input is supplied to the program: 8\n",
        "Then, the output should be:\n",
        "{1: 1, 2: 4, 3: 9, 4: 16, 5: 25, 6: 36, 7: 49, 8: 64}\n",
        "**"
      ]
    },
    {
      "cell_type": "code",
      "metadata": {
        "id": "UDPeC7qbdw0k",
        "colab_type": "code",
        "colab": {}
      },
      "source": [
        "\n",
        "n=int(input(\"Enter Number\\n\"))\n",
        "d={}\n",
        "i=1\n",
        "while i <= n:\n",
        "\t\n",
        "\td[i]=i*i\n",
        "\ti+=1\n",
        "\n",
        "print(d)\n"
      ],
      "execution_count": 0,
      "outputs": []
    },
    {
      "cell_type": "markdown",
      "metadata": {
        "id": "TRm-V3D3dw0q",
        "colab_type": "text"
      },
      "source": [
        "**Problem7:\n",
        "Write a program which accepts a sequence of comma-separated numbers from console and generate a list and a tuple which contains every number.\n",
        "Suppose the following input is supplied to the program:\n",
        "34,67,55,33,12,98\n",
        "Then, the output should be:\n",
        "['34', '67', '55', '33', '12', '98']\n",
        "('34', '67', '55', '33', '12', '98')\n",
        "**"
      ]
    },
    {
      "cell_type": "code",
      "metadata": {
        "id": "kjo0UilGdw0u",
        "colab_type": "code",
        "colab": {}
      },
      "source": [
        "Data=input (\"Data : \").split(\",\");\n",
        "print(Data)\n",
        "print(tuple(Data))\n"
      ],
      "execution_count": 0,
      "outputs": []
    },
    {
      "cell_type": "markdown",
      "metadata": {
        "id": "3l-P-rWYdw04",
        "colab_type": "text"
      },
      "source": [
        "**Problem8:\n",
        "Define a program which can generate and print a tuple where the value are square of numbers between 1 and 20 (both included)\n",
        "**"
      ]
    },
    {
      "cell_type": "code",
      "metadata": {
        "id": "6QLSYBBVdw05",
        "colab_type": "code",
        "colab": {}
      },
      "source": [
        "\n",
        "l=[]\n",
        "i=1\n",
        "while i<=20:\n",
        "\tl.append(i*i)\n",
        "\ti+=1\n",
        "t=tuple(l)\n",
        "\n",
        "print(t)\n"
      ],
      "execution_count": 0,
      "outputs": []
    },
    {
      "cell_type": "markdown",
      "metadata": {
        "id": "E1U-HKYXdw09",
        "colab_type": "text"
      },
      "source": [
        "**Problem9:\n",
        "With a given tuple (1,2,3,4,5,6,7,8,9,10), write a program to print the first half values in one line and the last half values in one line.\n",
        "Hint : Use [n1:n2] notation to get a slice from a tuple.\n",
        "**"
      ]
    },
    {
      "cell_type": "code",
      "metadata": {
        "id": "6YGJyBnadw0-",
        "colab_type": "code",
        "colab": {}
      },
      "source": [
        "t=(1,2,3,4,5,6,7,8,9,10)\n",
        "print(t[:len(t)//2])\n",
        "print(t[len(t)//2:])\n"
      ],
      "execution_count": 0,
      "outputs": []
    },
    {
      "cell_type": "markdown",
      "metadata": {
        "id": "GUsUdeM-dw1A",
        "colab_type": "text"
      },
      "source": [
        "# DAY 5\n",
        "\n"
      ]
    },
    {
      "cell_type": "markdown",
      "metadata": {
        "id": "1I8xq83Fdw1B",
        "colab_type": "text"
      },
      "source": [
        "**Problem 1:\n",
        "With a given integral number n, write a program to generate a dictionary that contains (i, i*i) such that is an integral number between 1 and n (both included). and then the program should print the dictionary. Suppose the following input is supplied to the program: 8\n",
        "Then, the output should be:\n",
        "{1: 1, 2: 4, 3: 9, 4: 16, 5: 25, 6: 36, 7: 49, 8: 64}\n",
        "**"
      ]
    },
    {
      "cell_type": "code",
      "metadata": {
        "id": "8510MU2jdw1D",
        "colab_type": "code",
        "colab": {}
      },
      "source": [
        "n=int(input(\"Enter Number\\n\"))\n",
        "d={}\n",
        "i=1\n",
        "while i <= n:\n",
        "\t\n",
        "\td[i]=i*i\n",
        "\ti+=1\n",
        "\n",
        "print(d)\n"
      ],
      "execution_count": 0,
      "outputs": []
    },
    {
      "cell_type": "markdown",
      "metadata": {
        "id": "wiyxYcatdw1J",
        "colab_type": "text"
      },
      "source": [
        "**Problem 2:\n",
        "Write a program which accepts a sequence of comma-separated numbers from console and generate a list and a tuple which contains every number.\n",
        "Suppose the following input is supplied to the program:\n",
        "34,67,55,33,12,98\n",
        "Then, the output should be:\n",
        "['34', '67', '55', '33', '12', '98']\n",
        "('34', '67', '55', '33', '12', '98')\n",
        "**"
      ]
    },
    {
      "cell_type": "code",
      "metadata": {
        "id": "71ct1zozdw1K",
        "colab_type": "code",
        "colab": {}
      },
      "source": [
        "Data=input (\"Data : \").split(\",\");\n",
        "print(Data)\n",
        "print(tuple(Data))\n"
      ],
      "execution_count": 0,
      "outputs": []
    },
    {
      "cell_type": "markdown",
      "metadata": {
        "id": "Y1Ahy8Rzdw1Q",
        "colab_type": "text"
      },
      "source": [
        "**Problem 3:\n",
        "Write a program that accepts 2 digits X and Y, and generates a 2d array.The element value of the ith row and j th column should be i*j. Note: i=0,1,2,...X-1  j=0,1,2,...Y-1\n",
        "\n",
        "Suppose the following input is given to the program: 3 5\n",
        "\n",
        "Then the output of the program should be [[0,0,0,0,0],[0,1,2,3,4],[0,2,4,6,8]]\n",
        "**"
      ]
    },
    {
      "cell_type": "code",
      "metadata": {
        "id": "SansOJj5dw1R",
        "colab_type": "code",
        "colab": {}
      },
      "source": [
        "x,y=input(\"Enter 2 numbers\\n\").split()\n",
        "\n",
        "x=int(x)\n",
        "y=int(y)\n",
        "M=[]\n",
        "for i in range(0,x):\n",
        "\tM.append([])\n",
        "\tfor j in range(0,y):\n",
        "\t\tM[i].append(i*j)\n",
        "\t\t\n",
        "print(M)\n"
      ],
      "execution_count": 0,
      "outputs": []
    },
    {
      "cell_type": "markdown",
      "metadata": {
        "id": "RNyvSYkrdw1U",
        "colab_type": "text"
      },
      "source": [
        "**Problem 4:\n",
        "Write a program that accepts a sequence of white space separated words as input and prints the words after removing duplicate words and spaces ,and sorting them alphanumerically.\n",
        "\n",
        "Suppose the following input is supplied to the program: hello world and practise makes perfect and hello world again\n",
        "\n",
        "Then the output should be: again and hello makes perfect practise world\n",
        "**"
      ]
    },
    {
      "cell_type": "code",
      "metadata": {
        "id": "kv8sutZmdw1U",
        "colab_type": "code",
        "colab": {}
      },
      "source": [
        "S=input(\"Enter A String\\n\")\n",
        "\n",
        "S=list(S.split())\n",
        "S=set(S)\n",
        "S=list(S)\n",
        "S.sort()\n",
        "New=\"\"\n",
        "for Word in S:\n",
        "\tNew+=Word+\" \"\n",
        "\t\n",
        "print(New)\n"
      ],
      "execution_count": 0,
      "outputs": []
    },
    {
      "cell_type": "markdown",
      "metadata": {
        "id": "f_ryWtefdw1X",
        "colab_type": "text"
      },
      "source": [
        "**Problem 5:\n",
        "Write a program that accepts a sequence and calculates the number of letters and digits.\n",
        "\n",
        "Suppose the following input is supplied to the program: \n",
        "hello world! 123\n",
        "\n",
        "Then the output should be: \n",
        "LETTERS: 10\n",
        "DIGITS: 3\n",
        "**"
      ]
    },
    {
      "cell_type": "code",
      "metadata": {
        "id": "CWQcA34zdw1Y",
        "colab_type": "code",
        "colab": {}
      },
      "source": [
        "import re\n",
        "\n",
        "\n",
        "S=input(\"Enter A String\\n\")\n",
        "\n",
        "x=re.findall(\"[a-zA-Z]\",S)\n",
        "y=re.findall(\"[0-9]\",S)\n",
        "\n",
        "print(\"LETTERS:\",len(x))\n",
        "print(\"DIGITS:\",len(y))\n"
      ],
      "execution_count": 0,
      "outputs": []
    },
    {
      "cell_type": "markdown",
      "metadata": {
        "id": "9v-14nZydw1b",
        "colab_type": "text"
      },
      "source": [
        "******Problem 6:\n",
        "A website requires users to input user name and password.Write a program to check the validity of passwords input by the users.\n",
        "\n",
        "Following are the criteria for checking the password:\n",
        "1. Atleast 1 letter between [a-z]\n",
        "2. Atleast 1 number between [0-9]\n",
        "3. Atleast 1 letter between [A-Z]\n",
        "4. Atleast 1 character from [$#@]\n",
        "5. Minimum length of transaction password: 6\n",
        "6. Maximum length of transaction password: 12\n",
        "\n",
        "Your program should accept a sequence of comma (“,”) separated passwords and check them according to the above criteria.Passwords that match the criteria are to be printed , each separated by a comma (“,”)\n",
        "\n",
        "If the following passwords are given as input to the program: \n",
        "Abd1234@1,aF1#,2w3E*,2We3345\n",
        "\n",
        "Then the output of the program should be: \n",
        "Abd1234@1\n",
        "******"
      ]
    },
    {
      "cell_type": "code",
      "metadata": {
        "id": "OOZcjLWVdw1b",
        "colab_type": "code",
        "colab": {}
      },
      "source": [
        "import re\n",
        "\n",
        "\n",
        "S=input(\"Enter passwords\\n\").split(\",\")\n",
        "n=0\n",
        "for password in S:\n",
        "\ta=re.findall(\"[a-z]\",password)\n",
        "\tnum=re.findall(\"[0-9]\",password)\n",
        "\tA=re.findall(\"[A-Z]\",password)\n",
        "\tsp=re.findall(\"[$#@]\",password)\n",
        "\tif len(a)>0 and len(num)>0 and len(sp)>0 and len(A)>0 and len(password)>=6 and len(password)<=12:\n",
        "\t\tif n==0:\n",
        "\t\t\tprint(password,end=\"\")\n",
        "\t\telse:\n",
        "\t\t\tprint(\",\",password,end=\"\")\n",
        "\t\t\t\n",
        "\t\tn=1\n",
        "\t\t\n",
        "print(\"\")\n"
      ],
      "execution_count": 0,
      "outputs": []
    },
    {
      "cell_type": "markdown",
      "metadata": {
        "id": "ixAjQHiGdw1f",
        "colab_type": "text"
      },
      "source": [
        "**Problem 7:\n",
        "Write a program to sort the (name,age,height) tuples by ascending order where name is string ,age and height are numbers.The tuples are input by console. The sort criteria is:\n",
        "\n",
        "\t1. Sort based on name\n",
        "\t2. Then sort based on age\n",
        "\t3. Then sort based on score\n",
        "\tThe priorrity is name>age>score.\n",
        "If the following tuples are given as input to the program: \n",
        "Tom,19,80\n",
        "John,20,90\n",
        "Jony,17,91\n",
        "Jony,17,93\n",
        "Json,21,85\n",
        "\n",
        "Then the output of the program should be: \n",
        "[(“John”,”20”,”90”),(“Jony”,”17”,”91”),(“Jony”,”17”,”93”),(“Json”,”21”,”85”),(“Tom”,”19”,”80”)]\n",
        "**"
      ]
    },
    {
      "cell_type": "code",
      "metadata": {
        "id": "3TSgtZazdw1h",
        "colab_type": "code",
        "colab": {}
      },
      "source": [
        "from operator import itemgetter\n",
        "l=[]\n",
        "for i in range(5):\n",
        "\ta,b,c=input().split(\",\")\n",
        "\tl.append((a,b,c))\n",
        "\n",
        "\n",
        "l.sort(key=itemgetter(0,1,2))\n",
        "\n",
        "print(l)\n"
      ],
      "execution_count": 0,
      "outputs": []
    },
    {
      "cell_type": "markdown",
      "metadata": {
        "id": "J22IFpKadw1l",
        "colab_type": "text"
      },
      "source": [
        "# DAY 6\n",
        "\n",
        "\n"
      ]
    },
    {
      "cell_type": "markdown",
      "metadata": {
        "id": "otp7EYh9dw1o",
        "colab_type": "text"
      },
      "source": [
        "**Problem 1:\n",
        "Please write a program to generate all sentences where subject is in [\"I\", \"You\"] and verb is in [\"Play\", \"Love\"] and the object is in [\"Hockey\",\"Football\"].\n",
        "Hints: Use list[index] notation to get a element from a list.\n",
        "**"
      ]
    },
    {
      "cell_type": "code",
      "metadata": {
        "id": "GSdpHry5dw1q",
        "colab_type": "code",
        "colab": {}
      },
      "source": [
        "\n",
        "Subject=[\"I\",\"You\"]\n",
        "Verb=[\"Play\",\"Love\"]\n",
        "Object=[\"Hockey\",\"Football\"]\n",
        "\n",
        "def Sent():\n",
        "\tfor  Sub in Subject:\n",
        "\t\tfor  Vrb in Verb:\n",
        "\t\t\tfor  Obj in Object:\n",
        "\t\t\t\tprint (Sub,\" \",Vrb,\" \",Obj)\n",
        "\t\t\t\t\n",
        "Sent()\n"
      ],
      "execution_count": 0,
      "outputs": []
    },
    {
      "cell_type": "markdown",
      "metadata": {
        "id": "cAgE7KB4dw1v",
        "colab_type": "text"
      },
      "source": [
        "**Problem 2:\n",
        "Let's say you are given a list of names, and you have to print a list using Lambda function that contains the length of each name.\n",
        "**"
      ]
    },
    {
      "cell_type": "code",
      "metadata": {
        "id": "kYBXyTV3dw1w",
        "colab_type": "code",
        "colab": {}
      },
      "source": [
        "Names= input(\"Enter Names\\n\").split()\n",
        "\n",
        "L=list(map(lambda x: len(x),Names))\n",
        "\n",
        "print(L)\n"
      ],
      "execution_count": 0,
      "outputs": []
    },
    {
      "cell_type": "markdown",
      "metadata": {
        "id": "tJYDnp3qdw10",
        "colab_type": "text"
      },
      "source": [
        "**Problem 3:\n",
        "Write a program that accepts sequence of lines as input and prints the lines after making all characters in the sentence capitalized using function.\n",
        "**"
      ]
    },
    {
      "cell_type": "code",
      "metadata": {
        "id": "vK9YLQpWdw11",
        "colab_type": "code",
        "colab": {}
      },
      "source": [
        "Sent= input(\"Enter Lines separated by fullstop.\\n\").split(\".\")\n",
        "Sent=Sent[:-1]\n",
        "L=list(map(lambda x: x.upper(),Sent))\n",
        "for S in L:\n",
        "\tprint(S,\".\",sep=\"\")\n"
      ],
      "execution_count": 0,
      "outputs": []
    },
    {
      "cell_type": "markdown",
      "metadata": {
        "id": "BfkkNq7mdw19",
        "colab_type": "text"
      },
      "source": [
        "**Write a program that computes the net amount of a bank account based a transaction log from console input. The transaction log format is shown as following: D 100 W 200\n",
        "D means deposit while W means withdrawal.\n",
        "Sample input:\n",
        "D 300\n",
        "D 300\n",
        "W 200\n",
        "D 100\n",
        "\n",
        "Sample output:\n",
        "500\n",
        "**"
      ]
    },
    {
      "cell_type": "code",
      "metadata": {
        "id": "VJtPDWQzdw1_",
        "colab_type": "code",
        "colab": {}
      },
      "source": [
        "d={}\n",
        "d[\"W\"]=0\n",
        "d[\"D\"]=0\n",
        "\n",
        "while(1):\n",
        "\t\n",
        "\tn=int(input(\"1 to Deposit 2 to With-drawl andthing else to quit\\n\"))\n",
        "\t\n",
        "\tif (n==1): \n",
        "\t\tamt=int(input(\"Enter Amount\\n\"))\n",
        "\t\td[\"D\"]+=amt\n",
        "\telif (n==2): \n",
        "\t\tamt=int(input(\"Enter Amount\\n\"))\n",
        "\t\td[\"W\"]+=amt\n",
        "\telse:\n",
        "\t\tbreak\n",
        "\t\t\n",
        "print(d[\"D\"]-d[\"W\"])\n"
      ],
      "execution_count": 0,
      "outputs": []
    },
    {
      "cell_type": "markdown",
      "metadata": {
        "id": "R4vjz9tWdw3U",
        "colab_type": "text"
      },
      "source": [
        "**Problem 5:\n",
        "Define a function that can accept two strings as input and concatenate them and then print it in console.\n",
        "**"
      ]
    },
    {
      "cell_type": "code",
      "metadata": {
        "id": "QHKxKHpAdw3W",
        "colab_type": "code",
        "colab": {}
      },
      "source": [
        "Str= input(\"Enter 2 Strings\\n\").split()\n",
        "def Add():\n",
        "\tNew=Str[0]+Str[1]\n",
        "\tprint(New)\n",
        "\t\n",
        "Add()\n"
      ],
      "execution_count": 0,
      "outputs": []
    },
    {
      "cell_type": "markdown",
      "metadata": {
        "id": "9TCmoagfdw3d",
        "colab_type": "text"
      },
      "source": [
        "**Problem 6:\n",
        "Define a function that can accept two strings as input and print the string with maximum length in console. If two strings have the same length, then the function should print al l strings line by line.\n",
        "**"
      ]
    },
    {
      "cell_type": "code",
      "metadata": {
        "id": "fFAZGkpsdw3f",
        "colab_type": "code",
        "colab": {}
      },
      "source": [
        "Str= input(\"Enter String\\n\").split()\n",
        "\n",
        "\n",
        "def P_Max(Str):\n",
        "\tL=list(map(lambda x: len(x),Str))\n",
        "\tif(L[0]>L[1]):\n",
        "\t\tprint(Str[0])\n",
        "\telif(L[0]<L[1]):\n",
        "\t\tprint(Str[1])\n",
        "\telse:\n",
        "\t\tprint(Str[0])\n",
        "\t\tprint(Str[1])\n",
        "P_Max(Str)\n"
      ],
      "execution_count": 0,
      "outputs": []
    },
    {
      "cell_type": "markdown",
      "metadata": {
        "id": "ypBHATJRdw32",
        "colab_type": "text"
      },
      "source": [
        "**\n",
        "Problem 7:\n",
        "Define a function which can print a dictionary where the keys are numbers between 1 and 3 (both included) and the values are square of keys.\n",
        "\n",
        "\n",
        "Use dict[key]=value pattern to put entry into a dictionary.\n",
        "Use ** operator to get power of a number.\n",
        "**"
      ]
    },
    {
      "cell_type": "code",
      "metadata": {
        "id": "x5PYYz6zdw35",
        "colab_type": "code",
        "colab": {}
      },
      "source": [
        "def F():\n",
        "\tNum= list(map(int,input(\"Enter Number\\n\").split()))\n",
        "\tif(len(Num)>3):\n",
        "\t\tNum=Num[:3]\n",
        "\td={}\n",
        "\tfor N in Num:\n",
        "\t\td[N]=N**2\n",
        "\t\t\n",
        "\tprint(d)\n",
        "F()\n"
      ],
      "execution_count": 0,
      "outputs": []
    },
    {
      "cell_type": "markdown",
      "metadata": {
        "id": "81E1VxKbdw4C",
        "colab_type": "text"
      },
      "source": [
        "**Problem 8:\n",
        "Define a function which can print a dictionary where the keys are numbers between 1 and 20 (both included) and the values are square of keys.\n",
        "**"
      ]
    },
    {
      "cell_type": "code",
      "metadata": {
        "id": "1IVypwnEdw4D",
        "colab_type": "code",
        "colab": {}
      },
      "source": [
        "def F():\n",
        "\tNum= list(map(int,input(\"Enter Number\\n\").split()))\n",
        "\tif(len(Num)>20):\n",
        "\t\tNum=Num[:20]\n",
        "\td={}\n",
        "\tfor N in Num:\n",
        "\t\td[N]=N**2\n",
        "\t\t\n",
        "\tprint(d)\n",
        "F()\n"
      ],
      "execution_count": 0,
      "outputs": []
    },
    {
      "cell_type": "markdown",
      "metadata": {
        "id": "pWw2JC-Ddw4P",
        "colab_type": "text"
      },
      "source": [
        "**Problem 9:\n",
        "Define a function which can generate and print a list where the values are square of numbers between 1 and 20 (both included).\n",
        "**"
      ]
    },
    {
      "cell_type": "code",
      "metadata": {
        "id": "d0NncRkCdw4Q",
        "colab_type": "code",
        "colab": {}
      },
      "source": [
        "L=[]\n",
        "def func():\n",
        "\tfor i in range(1,21):\n",
        "\t\tL.append(i**2)\n",
        "func()\t\t\n",
        "print(L)\n",
        "\t\n"
      ],
      "execution_count": 0,
      "outputs": []
    },
    {
      "cell_type": "markdown",
      "metadata": {
        "id": "s0R-2Z6hdw4V",
        "colab_type": "text"
      },
      "source": [
        "**Problem 10:\n",
        "Define a function which can generate a list where the values are square of numbers between 1 and 20 (both included). Then the function needs to print all values except the first 5 elements in the list.\n",
        "Hint : Use [n1:n2] to slice a list\n",
        "**"
      ]
    },
    {
      "cell_type": "code",
      "metadata": {
        "id": "e0jwM78Bdw4X",
        "colab_type": "code",
        "colab": {}
      },
      "source": [
        "L=[]\n",
        "def func():\n",
        "\tfor i in range(1,21):\n",
        "\t\tL.append(i**2)\n",
        "func()\t\t\n",
        "print(L[5:])\n"
      ],
      "execution_count": 0,
      "outputs": []
    },
    {
      "cell_type": "markdown",
      "metadata": {
        "id": "U7ToMg7Vdw4a",
        "colab_type": "text"
      },
      "source": [
        "# DAY 7\n",
        "\n"
      ]
    },
    {
      "cell_type": "markdown",
      "metadata": {
        "id": "NH4xJdWrdw4c",
        "colab_type": "text"
      },
      "source": [
        "**Problem 1:\n",
        "Write a module that reverse a string without using loops and in-build function.\n",
        "**"
      ]
    },
    {
      "cell_type": "code",
      "metadata": {
        "id": "DLfSTp8fdw4d",
        "colab_type": "code",
        "colab": {}
      },
      "source": [
        "def rev(s,n):\n",
        "\tif n>0:\n",
        "\t\treturn s[n]+rev(s,n-1)\n",
        "\telse:\n",
        "\t\treturn s[n]\n",
        "\t\t\n",
        "\n",
        "\n",
        "import P1 as r\n",
        "s=input(\"Enter String\\n\")\n",
        "n=len(s)\n",
        "print(r.rev(s,n-1))\n"
      ],
      "execution_count": 0,
      "outputs": []
    },
    {
      "cell_type": "markdown",
      "metadata": {
        "id": "QwX-mLv9dw4k",
        "colab_type": "text"
      },
      "source": [
        "**\n",
        "Problem 2:\n",
        "Write a module which accepts a string from console and print the characters that have even indexes.\n",
        "**"
      ]
    },
    {
      "cell_type": "code",
      "metadata": {
        "id": "epPY7K5ldw4n",
        "colab_type": "code",
        "colab": {}
      },
      "source": [
        "def CharAtEvInd(s):\n",
        "    print(s[1::2])\n",
        "\n",
        "import P2 as even\n",
        "s=input(\"Enter the string\\n\")\n",
        "even.CharAtEvInd(s)\n"
      ],
      "execution_count": 0,
      "outputs": []
    },
    {
      "cell_type": "markdown",
      "metadata": {
        "id": "Mu6-dVbHdw4q",
        "colab_type": "text"
      },
      "source": [
        "**\n",
        "Problem 3:\n",
        "Write a module which prints all permutations of [1,2,3]\n",
        "**"
      ]
    },
    {
      "cell_type": "code",
      "metadata": {
        "id": "zcDqmCiydw4s",
        "colab_type": "code",
        "colab": {}
      },
      "source": [
        "\n",
        "from itertools import permutations\n",
        "def permu(n):\n",
        "    l=list(permutations(n))\n",
        "    for i in l:\n",
        "        print (i)\n",
        "\n",
        "\n",
        "import P3\n",
        "l=list(map(int,input(\"Enter the numbers\\n   \").split(\",\")))\n",
        "P3.permu(l)\n"
      ],
      "execution_count": 0,
      "outputs": []
    },
    {
      "cell_type": "markdown",
      "metadata": {
        "id": "N-l7kcDidw43",
        "colab_type": "text"
      },
      "source": [
        "**Problem 4:\n",
        "Write a Python program to find three numbers from an array such that the sum of three numbers equal to zero.\n",
        "Input : [-1,0,1,2,-1,-4]\n",
        "Output : [[-1, -1, 2], [-1, 0, 1]]\n",
        "\n",
        "Note : Find the unique triplets in the array.\n",
        "**"
      ]
    },
    {
      "cell_type": "code",
      "metadata": {
        "id": "nE1BKwxQdw5D",
        "colab_type": "code",
        "colab": {}
      },
      "source": [
        "def findTriplets(arr, n):\n",
        "\tA=[]\n",
        "\tfor i in range(0, n - 2):\n",
        "\t\tfor j in range(i + 1, n - 1):\n",
        "\t\t\tfor k in range(j + 1, n):\n",
        "\t\t\t\tif (arr[i] + arr[j] + arr[k] == 0):\n",
        "\t\t\t\t\tL=[arr[i], arr[j], arr[k]]\n",
        "\t\t\t\t\tL.sort()\n",
        "\t\t\t\t\tif not (L in A):\n",
        "\t\t\t\t\t\tA.append(L)\n",
        "\t\n",
        "\treturn A                \n",
        "\n",
        "\n",
        "import P4\n",
        "s=list(map(int,input(\"Enter the numbers\\n\").split(\",\")))\n",
        "print(P4.findTriplets(s,len(s)))\n"
      ],
      "execution_count": 0,
      "outputs": []
    },
    {
      "cell_type": "markdown",
      "metadata": {
        "id": "XooONe-4dw5I",
        "colab_type": "text"
      },
      "source": [
        "**Problem 5:\n",
        "Write a program which accepts basic mathematic expression from console and print the evaluation result.\n",
        "**"
      ]
    },
    {
      "cell_type": "code",
      "metadata": {
        "id": "Z0ouXR8Ydw5J",
        "colab_type": "code",
        "colab": {}
      },
      "source": [
        "s=input(\"Enter the expression\\n\")\n",
        "print(eval(s))\n"
      ],
      "execution_count": 0,
      "outputs": []
    },
    {
      "cell_type": "markdown",
      "metadata": {
        "id": "NoYUapuYdw5c",
        "colab_type": "text"
      },
      "source": [
        "**\n",
        "Problem 6:\n",
        "Write a binary search function which searches an item in a sorted list. The function should return the index of element to be searched in the list.\n",
        "**"
      ]
    },
    {
      "cell_type": "code",
      "metadata": {
        "id": "DB6e7eZIdw5e",
        "colab_type": "code",
        "colab": {}
      },
      "source": [
        "def binarySearch (arr, l, r, x): \n",
        "  \n",
        "    if r >= l: \n",
        "  \n",
        "        mid = l + (r - l)//2\n",
        "  \n",
        "        if arr[mid] == x: \n",
        "            return mid \n",
        "          \n",
        "        elif arr[mid] > x: \n",
        "            return binarySearch(arr, l, mid-1, x) \n",
        "   \n",
        "        else: \n",
        "            return binarySearch(arr, mid+1, r, x) \n",
        "  \n",
        "    else:  \n",
        "        return -1\n",
        "        \n",
        "\n",
        "\n",
        "import P6\n",
        "s=list(map(int,input(\"Enter a list of elements in sorted order\\n\").split(\",\")))\n",
        "n=int(input(\"Enter the element to be searched\\n\"))\n",
        "print(P6.binarySearch (s, 0, len(s)-1, n))\n"
      ],
      "execution_count": 0,
      "outputs": []
    },
    {
      "cell_type": "markdown",
      "metadata": {
        "id": "PV6TOoXEdw5h",
        "colab_type": "text"
      },
      "source": [
        "# DAY 8\n",
        "\n"
      ]
    },
    {
      "cell_type": "markdown",
      "metadata": {
        "id": "bzlUrH_Gdw5m",
        "colab_type": "text"
      },
      "source": [
        "**Problem   1: \n",
        " Write   a   programme   that   reads   a   text   from   a   file   and   writes   it \n",
        " into   another   file   but   in   reverse   order.**"
      ]
    },
    {
      "cell_type": "code",
      "metadata": {
        "id": "hJkS2rgTdw5n",
        "colab_type": "code",
        "colab": {}
      },
      "source": [
        "file=open(\"text.txt\",'w')     \n",
        " #opens   a   file   in   write   mode \n",
        " file.write(\"line1   \\n   \") \n",
        " file.write(\"line2   \\n\") \n",
        " file.write(\"line3   \\n\") \n",
        " file.close()            \n",
        " #closes   the   file \n",
        " f1=open(\"text.txt\",'r')     \n",
        " #opens   the   file   in   read   mode \n",
        " f2=open(\"newtext.txt\",'w')     \n",
        " #opens   a   file   in   write   mode \n",
        " newtxt=\"   \" \n",
        " for   i   in   f1.readlines():     \n",
        " #reads   lines   from   files \n",
        "      newtxt=i+newtxt     \n",
        " #reverses   the   text   in   file \n",
        " f2.write(newtxt) \n",
        " f1.close()      \n",
        " #closes   the   files \n",
        " f2.close()      \n",
        " #closes   the   files \n",
        " \n",
        " \n",
        "f3=open(\"newtext.txt\",'r')    \n",
        " #opens   file   in   read   mode \n",
        " print(f3.read())      \n",
        " #prints   the   file "
      ],
      "execution_count": 0,
      "outputs": []
    },
    {
      "cell_type": "markdown",
      "metadata": {
        "id": "0Y96AIk_dw5q",
        "colab_type": "text"
      },
      "source": [
        "**Problem   2: \n",
        " Write   a   programme   to   compare   the   contents   of   two   text   files**"
      ]
    },
    {
      "cell_type": "code",
      "metadata": {
        "id": "5ebGa-8tdw5r",
        "colab_type": "code",
        "colab": {}
      },
      "source": [
        "f1=open(\"text1.txt\",\"r\")      \n",
        " #opens   file   in   read   mode \n",
        " f2=open(\"text2.txt\",\"r\")      \n",
        " #opens   file   in   read   mode \n",
        " for   line1   in   f1:        \n",
        " #loop   to   search   1st   file \n",
        "      for   line2   in   f2:      \n",
        " #loop   to   search   2nd   file \n",
        "    \n",
        " if   line1==line2:     \n",
        " #compares   the   lines   from   2   files \n",
        "              print(\"SAME\\n\") \n",
        "          else: \n",
        "              print(line1   +   line2) \n",
        "          break \n",
        " f1.close()     \n",
        " #closes   the   1st   file \n",
        " f2.close()      \n",
        " #closes   the   2nd   file"
      ],
      "execution_count": 0,
      "outputs": []
    },
    {
      "cell_type": "markdown",
      "metadata": {
        "id": "6dMMbvOwdw52",
        "colab_type": "text"
      },
      "source": [
        "**Problem   3: \n",
        " Write   a   programme   to   merge   two   files   into   a   third   file **"
      ]
    },
    {
      "cell_type": "code",
      "metadata": {
        "id": "vf7bc-FDdw53",
        "colab_type": "code",
        "colab": {}
      },
      "source": [
        "import   shutil;    \n",
        " #import   module   print(\"Enter   'x'   for   exit.\"); \n",
        " filename1   =   input(\"Enter   first   file   name   to   merge:   \");     \n",
        " #input   1st \n",
        " filename \n",
        " if   filename1   ==   'x': \n",
        "      exit(); \n",
        " else: \n",
        "      filename2   =   input(\"Enter   second   file   name   to   merge:   \");     \n",
        " #input \n",
        " 2nd   filename \n",
        "      filename3   =   input(\"Create   a   new   file   to   merge   content   of   two   file \n",
        " inside   this   file:   \");     \n",
        " #input   3rd   filename \n",
        "      print(); \n",
        "      print(\"Merging   the   content   of   two   file   in\",filename3); \n",
        "      with   open(filename3,   \"wb\")   as   wfd:      \n",
        " #opeening   3rd   file   in   write \n",
        " mode \n",
        "          for   f   in   [filename1,   filename2]:       \n",
        " #searches   contents   of   1st \n",
        " and   2nd   file \n",
        "              with   open(f,   \"rb\")   as   fd: \n",
        "                  shutil.copyfileobj(fd,   wfd,   1024*1024*10); \n",
        "      print(\"\\nContent   merged   successfully.!\"); \n",
        "      print(\"Want   to   see   ?   (y/n):   \"); \n",
        "      check   =   input();        if   check   ==   'n': \n",
        "          exit(); \n",
        "      else: \n",
        " \n",
        "\n",
        " \n",
        "         print(); \n",
        "          c   =   open(filename3,   \"r\"); \n",
        "          print(c.read()); \n",
        "          c.close();"
      ],
      "execution_count": 0,
      "outputs": []
    },
    {
      "cell_type": "markdown",
      "metadata": {
        "id": "4eRtBgDidw56",
        "colab_type": "text"
      },
      "source": [
        "**Program   4: \n",
        " Suppose   a   text   file   has   severral   lines.   Each   line   begins   with   a \n",
        " line   number.   Now   read   this   file   line   by   line   and   copy   the   line   in \n",
        " another   file   but   do   not   copy   the   numbers. **"
      ]
    },
    {
      "cell_type": "code",
      "metadata": {
        "id": "r1MIFFzmdw57",
        "colab_type": "code",
        "colab": {}
      },
      "source": [
        "with   open(\"F1.txt\",\"r\")   as   f: \n",
        "      with   open(\"F2.txt\",\"w\")   as   f1:            \n",
        "            for   lines   in   f: \n",
        "              f1.write(lines[1:])"
      ],
      "execution_count": 0,
      "outputs": []
    },
    {
      "cell_type": "markdown",
      "metadata": {
        "id": "a2Vpte-Vdw5-",
        "colab_type": "text"
      },
      "source": [
        "**Program   5: \n",
        " Write   a   programme   that   copies   data   of   one   file   into   another   in \n",
        " such   a   way   that   each   character   after   full   stop   is   capitialized**"
      ]
    },
    {
      "cell_type": "code",
      "metadata": {
        "id": "bEBJE90Adw5_",
        "colab_type": "code",
        "colab": {}
      },
      "source": [
        "with   open(\"F1.txt\",\"r\")   as   f: \n",
        "      with   open(\"F2.txt\",\"w\")   as   f1:            c=\"\" \n",
        "          c1=\"\" \n",
        "          while   True: \n",
        "                c   =   f.read(1) \n",
        "              if   not   c: \n",
        "                  print   (\"End   of   file\") \n",
        "                  break \n",
        "              if   c1   ==   \".\":                    f1.write(c.upper()) \n",
        "              else: \n",
        "                  f1.write(c) \n",
        "              c1=c "
      ],
      "execution_count": 0,
      "outputs": []
    },
    {
      "cell_type": "markdown",
      "metadata": {
        "id": "andG0gUldw6H",
        "colab_type": "text"
      },
      "source": [
        "**Program   6: \n",
        " Write   a   programme   that   copies   one   python   script   to   another \n",
        " file.   At   the   time   of   copying   it   should   skip   all   the   comments**"
      ]
    },
    {
      "cell_type": "code",
      "metadata": {
        "id": "Rp4-DEXxdw6I",
        "colab_type": "code",
        "colab": {}
      },
      "source": [
        "with   open(\"F1.txt\",\"r\")   as   f: \n",
        "      with   open(\"F2.txt\",\"w\")   as   f1:            c=\"\" \n",
        "          is_comment=False \n",
        "          while   True: \n",
        "                c   =   f.read(1) \n",
        "              if   not   c: \n",
        "                  print   (\"End   of   file\") \n",
        "                  break \n",
        "                if   c   ==   \"#\": \n",
        "                  is_comment   =   True \n",
        "              if   c   ==   \"\\n\": \n",
        "                  is_comment   =   False \n",
        "                if   is_comment   ==   False: \n",
        "                  f1.write(c)"
      ],
      "execution_count": 0,
      "outputs": []
    },
    {
      "cell_type": "markdown",
      "metadata": {
        "id": "1XRNMzCOdw6L",
        "colab_type": "text"
      },
      "source": [
        "# DAY 9\n",
        "\n",
        "\n"
      ]
    },
    {
      "cell_type": "markdown",
      "metadata": {
        "id": "XQbyt9PKdw6L",
        "colab_type": "text"
      },
      "source": [
        "**Primary conditions for password validation :\n",
        "\n",
        "Minimum 8 characters.\n",
        "The alphabets must be between [a-z]\n",
        "At least one alphabet should be of Upper Case [A-Z]\n",
        "At least 1 number or digit between [0-9].\n",
        "At least 1 character from [ _ or @ or $ ].**"
      ]
    },
    {
      "cell_type": "code",
      "metadata": {
        "id": "feU-V4Iqdw6M",
        "colab_type": "code",
        "colab": {}
      },
      "source": [
        "import re \n",
        "password = \"R@m@_f0rtu9e$\"\n",
        "flag = 0\n",
        "while True:   \n",
        "    if (len(password)<8): \n",
        "        flag = -1\n",
        "        break\n",
        "    elif not re.search(\"[a-z]\", password): \n",
        "        flag = -1\n",
        "        break\n",
        "    elif not re.search(\"[A-Z]\", password): \n",
        "        flag = -1\n",
        "        break\n",
        "    elif not re.search(\"[0-9]\", password): \n",
        "        flag = -1\n",
        "        break\n",
        "    elif not re.search(\"[_@$]\", password): \n",
        "        flag = -1\n",
        "        break\n",
        "    elif re.search(\"\\s\", password): \n",
        "        flag = -1\n",
        "        break\n",
        "    else: \n",
        "        flag = 0\n",
        "        print(\"Valid Password\") \n",
        "        break\n",
        "  \n",
        "if flag ==-1: \n",
        "    print(\"Not a Valid Password\") "
      ],
      "execution_count": 0,
      "outputs": []
    },
    {
      "cell_type": "markdown",
      "metadata": {
        "id": "dzsKwBP4dw6R",
        "colab_type": "text"
      },
      "source": [
        "**Given an input, write a Python program to check whether the given Input is Floating point number or not.**"
      ]
    },
    {
      "cell_type": "code",
      "metadata": {
        "id": "FIJUX8uedw6R",
        "colab_type": "code",
        "colab": {}
      },
      "source": [
        "# Python program to check input is \n",
        "# Floating point number or not \n",
        "  \n",
        "# import re module \n",
        "  \n",
        "# re module provides support \n",
        "# for regular expressions \n",
        "import re \n",
        "  \n",
        "# Make a regular expression for \n",
        "# identifying Floating point number  \n",
        "regex = '[+-]?[0-9]+\\.[0-9]+'\n",
        "  \n",
        "# Define a function to \n",
        "# check Floating point number  \n",
        "def check(floatnum):  \n",
        "  \n",
        "     # pass the regular expression \n",
        "     # and the string in search() method \n",
        "    if(re.search(regex, floatnum)):  \n",
        "        print(\"Floating point number\")  \n",
        "          \n",
        "    else:  \n",
        "        print(\"Not a Floating point number\")  \n",
        "      \n",
        "  \n",
        "# Driver Code  \n",
        "if __name__ == '__main__' :  \n",
        "      \n",
        "    # Enter the floating point number \n",
        "    floatnum = \"1.20\"\n",
        "      \n",
        "    # calling run function  \n",
        "    check(floatnum) \n",
        "  \n",
        "    floatnum = \"-2.356\"\n",
        "    check(floatnum) \n",
        "  \n",
        "    floatnum = \"0.2\"\n",
        "    check(floatnum) \n",
        "  \n",
        "    floatnum = \"-3\"\n",
        "    check(floatnum) "
      ],
      "execution_count": 0,
      "outputs": []
    },
    {
      "cell_type": "markdown",
      "metadata": {
        "id": "zUnoL_Gedw6W",
        "colab_type": "text"
      },
      "source": [
        "# DAY 10\n",
        "\n",
        "\n"
      ]
    },
    {
      "cell_type": "markdown",
      "metadata": {
        "id": "tU_ItDz9dw6X",
        "colab_type": "text"
      },
      "source": [
        "**Implementation of GUI**"
      ]
    },
    {
      "cell_type": "code",
      "metadata": {
        "id": "A1ZS4p8Adw6c",
        "colab_type": "code",
        "colab": {}
      },
      "source": [
        "import tkinter as tk\n",
        "window=tk.Tk()\n",
        "window.title('Students Indormation')\n",
        "window.geometry(\"300x400\")\n",
        "label1=tk.Label(window,text=\"Name\")\n",
        "entry1=tk.Entry(window)\n",
        "label2=tk.Label(window,text=\"Stream\")\n",
        "entry2=tk.Entry(window)\n",
        "label3=tk.Label(window,text=\"Marks\")\n",
        "entry3=tk.Entry(window)\n",
        "def inserttofile():\n",
        "    file=open('write.csv','a+')\n",
        "    file.write(entry1.get()+','+entry2.get()+','+entry3.get()+',')\n",
        "    file.close()\n",
        "button1=tk.Button(window,text=\"Insert\",command=inserttofile)\n",
        "button2=tk.Button(window,text=\"Quit\",command=window.destroy)\n",
        "label1.grid(row=0,column=0)\n",
        "entry1.grid(row=0,column=1)\n",
        "label2.grid(row=1,column=0)\n",
        "entry2.grid(row=1,column=1)\n",
        "label3.grid(row=2,column=0)\n",
        "entry3.grid(row=2,column=1)\n",
        "button1.grid(row=3,column=0)\n",
        "button2.grid(row=3,column=1)\n",
        "window.mainloop()\n",
        "\n"
      ],
      "execution_count": 0,
      "outputs": []
    }
  ]
}